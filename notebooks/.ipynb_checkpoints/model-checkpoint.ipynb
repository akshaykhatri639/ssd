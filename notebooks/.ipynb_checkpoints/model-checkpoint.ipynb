{
 "cells": [
  {
   "cell_type": "code",
   "execution_count": 1,
   "metadata": {},
   "outputs": [
    {
     "name": "stderr",
     "output_type": "stream",
     "text": [
      "Using TensorFlow backend.\n"
     ]
    }
   ],
   "source": [
    "import tensorflow as tf\n",
    "import keras\n",
    "from keras.applications import vgg19\n",
    "from keras.layers import Conv2D, Input\n",
    "from keras.models import Model\n",
    "from functools import partial, update_wrapper\n",
    "from DataGenerator import DataGenerator\n",
    "%load_ext autoreload\n",
    "%autoreload 2\n",
    "from keras import optimizers\n",
    "from keras.metrics import sparse_categorical_accuracy"
   ]
  },
  {
   "cell_type": "code",
   "execution_count": 2,
   "metadata": {
    "collapsed": true
   },
   "outputs": [],
   "source": [
    "def wrapped_partial(func, *args, **kwargs):\n",
    "    partial_func = partial(func, *args, **kwargs)\n",
    "    update_wrapper(partial_func, func)\n",
    "    return partial_func"
   ]
  },
  {
   "cell_type": "code",
   "execution_count": 3,
   "metadata": {
    "collapsed": true
   },
   "outputs": [],
   "source": [
    "num_classes = 21\n",
    "aspect_ratios = [1, 2, 3, 1 / 2.0, 1 / 3.0]\n",
    "num_aspect_ratios = len(aspect_ratios)+1 # +1 for the last box with aspect_ratio 1 but bigger size\n",
    "\n",
    "feature_sizes = [26, 12, 5]\n",
    "\n",
    "batch_size = 32"
   ]
  },
  {
   "cell_type": "code",
   "execution_count": 4,
   "metadata": {
    "collapsed": true
   },
   "outputs": [],
   "source": [
    "# y_ph1 = tf.placeholder(tf.int32, shape=[None, 26, 26])\n",
    "# yph_1 = Input(shape=[None, 26, 26], dtype='int32', name='y1')\n",
    "# yph_2 = Input(shape=[None, 12, 12], dtype='int32', name='y2')\n",
    "# yph_3 = Input(shape=[None, 5, 5], dtype='int32', name='y3')\n",
    "# y_ph2 = tf.placeholder(tf.int32, shape=[None, 12, 12])\n",
    "# y_ph3 = tf.placeholder(tf.int32, shape=[None, 5, 5])"
   ]
  },
  {
   "cell_type": "code",
   "execution_count": 5,
   "metadata": {},
   "outputs": [],
   "source": [
    "model = vgg19.VGG19(include_top=False, input_shape=(224, 224, 3))"
   ]
  },
  {
   "cell_type": "code",
   "execution_count": 6,
   "metadata": {},
   "outputs": [
    {
     "name": "stdout",
     "output_type": "stream",
     "text": [
      "<keras.engine.topology.InputLayer object at 0x1044c7410> (None, 224, 224, 3)\n",
      "<keras.layers.convolutional.Conv2D object at 0x11489b290> (None, 224, 224, 64)\n",
      "<keras.layers.convolutional.Conv2D object at 0x1148b3c50> (None, 224, 224, 64)\n",
      "<keras.layers.pooling.MaxPooling2D object at 0x1148d6dd0> (None, 112, 112, 64)\n",
      "<keras.layers.convolutional.Conv2D object at 0x1148d6990> (None, 112, 112, 128)\n",
      "<keras.layers.convolutional.Conv2D object at 0x114a1da90> (None, 112, 112, 128)\n",
      "<keras.layers.pooling.MaxPooling2D object at 0x114a59d90> (None, 56, 56, 128)\n",
      "<keras.layers.convolutional.Conv2D object at 0x114a59c50> (None, 56, 56, 256)\n",
      "<keras.layers.convolutional.Conv2D object at 0x114a9b7d0> (None, 56, 56, 256)\n",
      "<keras.layers.convolutional.Conv2D object at 0x114aabd90> (None, 56, 56, 256)\n",
      "<keras.layers.convolutional.Conv2D object at 0x114af7550> (None, 56, 56, 256)\n",
      "<keras.layers.pooling.MaxPooling2D object at 0x114aba910> (None, 28, 28, 256)\n",
      "<keras.layers.convolutional.Conv2D object at 0x114b5a490> (None, 28, 28, 512)\n",
      "<keras.layers.convolutional.Conv2D object at 0x114b84690> (None, 28, 28, 512)\n",
      "<keras.layers.convolutional.Conv2D object at 0x114bd41d0> (None, 28, 28, 512)\n",
      "<keras.layers.convolutional.Conv2D object at 0x114bf2f90> (None, 28, 28, 512)\n",
      "<keras.layers.pooling.MaxPooling2D object at 0x114c2e6d0> (None, 14, 14, 512)\n",
      "<keras.layers.convolutional.Conv2D object at 0x114c3d7d0> (None, 14, 14, 512)\n",
      "<keras.layers.convolutional.Conv2D object at 0x114c7d250> (None, 14, 14, 512)\n",
      "<keras.layers.convolutional.Conv2D object at 0x114c5cdd0> (None, 14, 14, 512)\n",
      "<keras.layers.convolutional.Conv2D object at 0x114cfb490> (None, 14, 14, 512)\n",
      "<keras.layers.pooling.MaxPooling2D object at 0x114cd8fd0> (None, 7, 7, 512)\n"
     ]
    }
   ],
   "source": [
    "for layer in model.layers:\n",
    "    print layer, layer.output_shape\n",
    "    layer.trainable = False"
   ]
  },
  {
   "cell_type": "code",
   "execution_count": 7,
   "metadata": {
    "collapsed": true
   },
   "outputs": [],
   "source": [
    "out1 = Conv2D(padding='valid', filters=num_classes*num_aspect_ratios, kernel_size=3,\n",
    "              activation=None, name='26')(model.layers[-7].output)\n",
    "\n",
    "out2 = Conv2D(padding='valid', filters=num_classes*num_aspect_ratios, kernel_size=3, \n",
    "              activation=None, name='12')(model.layers[-2].output)\n",
    "\n",
    "out3 = Conv2D(padding='valid', filters=num_classes*num_aspect_ratios, kernel_size=3,\n",
    "              activation=None, name='5')(model.layers[-1].output)"
   ]
  },
  {
   "cell_type": "code",
   "execution_count": 8,
   "metadata": {},
   "outputs": [
    {
     "name": "stdout",
     "output_type": "stream",
     "text": [
      "(?, 26, 26, 126)\n",
      "(?, 12, 12, 126)\n",
      "(?, 5, 5, 126)\n"
     ]
    }
   ],
   "source": [
    "print out1.shape\n",
    "print out2.shape\n",
    "print out3.shape"
   ]
  },
  {
   "cell_type": "code",
   "execution_count": 9,
   "metadata": {
    "collapsed": true
   },
   "outputs": [],
   "source": [
    "# out1_flat = tf.reshape(out1, [-1, num_classes])\n",
    "# out2_flat = tf.reshape(out2, [-1, num_classes])\n",
    "# out3_flat = tf.reshape(out3, [-1, num_classes])"
   ]
  },
  {
   "cell_type": "code",
   "execution_count": 10,
   "metadata": {
    "collapsed": true
   },
   "outputs": [],
   "source": [
    "# all_outputs = tf.concat([out1_flat, out2_flat, out3_flat], 0)"
   ]
  },
  {
   "cell_type": "code",
   "execution_count": 11,
   "metadata": {},
   "outputs": [],
   "source": [
    "# print all_outputs.shape"
   ]
  },
  {
   "cell_type": "code",
   "execution_count": 12,
   "metadata": {},
   "outputs": [],
   "source": [
    "# loss1 = tf.nn.sparse_softmax_cross_entropy_with_logits(labels=y_ph1, logits=out1)\n",
    "# loss2 = tf.nn.sparse_softmax_cross_entropy_with_logits(labels=y_ph2, logits=out2)\n",
    "# loss3 = tf.nn.sparse_softmax_cross_entropy_with_logits(labels=y_ph3, logits=out3)"
   ]
  },
  {
   "cell_type": "code",
   "execution_count": 13,
   "metadata": {
    "collapsed": true
   },
   "outputs": [],
   "source": [
    "def loss_with_negative_mining(y_true, y_pred, k, num_aspect_ratios, num_classes):\n",
    "#     zero = tf.constant(0.0)\n",
    "    print y_true, y_pred\n",
    "    zero = tf.constant(0, dtype=tf.int32)\n",
    "    \n",
    "    # remove the zero padding from the input to get sparse labels\n",
    "    y_true = tf.slice(y_true, begin=[0, 0, 0, 0], size=[-1, -1, -1, num_aspect_ratios])\n",
    "    y_pred_shape = tf.shape(y_pred)\n",
    "    y_pred = tf.reshape(y_pred, shape = [y_pred_shape[0], y_pred_shape[1], y_pred_shape[2],\n",
    "                                         num_aspect_ratios, num_classes])\n",
    "    y_true = tf.cast(y_true, tf.int32)\n",
    "    \n",
    "    loss = tf.nn.sparse_softmax_cross_entropy_with_logits(labels=y_true, logits=y_pred)\n",
    "    print y_true, y_pred, loss\n",
    "    \n",
    "    pos_samples = tf.not_equal(y_true, zero)\n",
    "    pos_loss = tf.multiply(loss, tf.cast(pos_samples, tf.float32))\n",
    "    pos_loss = tf.reduce_sum(pos_loss, [1, 2, 3])\n",
    "    \n",
    "    neg_samples = tf.equal(y_true, zero)\n",
    "    neg_loss = tf.multiply(loss, tf.cast(neg_samples, tf.float32))\n",
    "#     neg_loss = tf.reduce_sum(neg_loss, [1, 2, 3])\n",
    "    \n",
    "    neg_loss_flattened = tf.reshape(neg_loss, [tf.shape(y_true)[0], -1])\n",
    "    top_k_neg_loss, _ = tf.nn.top_k(neg_loss_flattened, k=k, sorted=False)\n",
    "    top_k_neg_loss = tf.reduce_sum(top_k_neg_loss, axis=1)\n",
    "    N = tf.cast(tf.reduce_sum(y_true, [1, 2, 3]), tf.float32) + tf.ones([y_pred_shape[0]], dtype=tf.float32, name='smoothing')\n",
    "    total_loss = (pos_loss + top_k_neg_loss)/N\n",
    "    \n",
    "    return tf.reduce_mean(total_loss)\n",
    "\n",
    "\n",
    "def my_accuracy(y_true, y_pred, num_aspect_ratios, num_classes):\n",
    "#     sparse_categorical_accuracy\n",
    "    y_pred_shape = tf.shape(y_pred)\n",
    "    y_pred = tf.reshape(y_pred, shape = [y_pred_shape[0], y_pred_shape[1], y_pred_shape[2],\n",
    "                                         num_aspect_ratios, num_classes])\n",
    "    y_pred = tf.reshape(y_pred, shape = [-1, num_classes])\n",
    "    y_true = tf.reshape(y_true, shape=[ -1])\n",
    "    return sparse_categorical_accuracy(y_true, y_pred)"
   ]
  },
  {
   "cell_type": "code",
   "execution_count": 14,
   "metadata": {},
   "outputs": [],
   "source": [
    "k = 40 # set randomly for now\n",
    "# hard_neg_loss1 = loss_with_negative_mining(loss1, y_ph1, k)\n",
    "# hard_neg_loss2 = loss_with_negative_mining(loss2, y_ph2, k)\n",
    "# hard_neg_loss3 = loss_with_negative_mining(loss3, y_ph3, k)"
   ]
  },
  {
   "cell_type": "code",
   "execution_count": 15,
   "metadata": {
    "collapsed": true
   },
   "outputs": [],
   "source": [
    "# total_loss = hard_neg_loss1 + hard_neg_loss2 + hard_neg_loss3\n"
   ]
  },
  {
   "cell_type": "code",
   "execution_count": 16,
   "metadata": {},
   "outputs": [
    {
     "name": "stdout",
     "output_type": "stream",
     "text": [
      "Tensor(\"26_target:0\", shape=(?, ?, ?, ?), dtype=float32) Tensor(\"26/BiasAdd:0\", shape=(?, 26, 26, 126), dtype=float32)\n",
      "Tensor(\"Cast:0\", shape=(?, ?, ?, 6), dtype=int32) Tensor(\"Reshape:0\", shape=(?, ?, ?, 6, 21), dtype=float32) Tensor(\"SparseSoftmaxCrossEntropyWithLogits/Reshape_2:0\", shape=(?, ?, ?, 6), dtype=float32)\n",
      "Tensor(\"12_target:0\", shape=(?, ?, ?, ?), dtype=float32) Tensor(\"12/BiasAdd:0\", shape=(?, 12, 12, 126), dtype=float32)\n",
      "Tensor(\"Cast_5:0\", shape=(?, ?, ?, 6), dtype=int32) Tensor(\"Reshape_2:0\", shape=(?, ?, ?, 6, 21), dtype=float32) Tensor(\"SparseSoftmaxCrossEntropyWithLogits_1/Reshape_2:0\", shape=(?, ?, ?, 6), dtype=float32)\n",
      "Tensor(\"5_target:0\", shape=(?, ?, ?, ?), dtype=float32) Tensor(\"5/BiasAdd:0\", shape=(?, 5, 5, 126), dtype=float32)\n",
      "Tensor(\"Cast_10:0\", shape=(?, ?, ?, 6), dtype=int32) Tensor(\"Reshape_4:0\", shape=(?, ?, ?, 6, 21), dtype=float32) Tensor(\"SparseSoftmaxCrossEntropyWithLogits_2/Reshape_2:0\", shape=(?, ?, ?, 6), dtype=float32)\n"
     ]
    }
   ],
   "source": [
    "ssd_model = Model(inputs=model.input, outputs = [out1, out2, out3])\n",
    "loss_fun = wrapped_partial(loss_with_negative_mining, k=k, num_aspect_ratios=num_aspect_ratios, num_classes=num_classes)\n",
    "acc_fun = wrapped_partial(my_accuracy, num_aspect_ratios=num_aspect_ratios, num_classes=num_classes)\n",
    "sgd = optimizers.SGD(lr=0.00001, decay=1e-6, momentum=0.9)\n",
    "\n",
    "ssd_model.compile(optimizer=\"adam\", \n",
    "              loss={'26': loss_fun, '12': loss_fun, '5':loss_fun},\n",
    "                 metrics=[acc_fun])"
   ]
  },
  {
   "cell_type": "code",
   "execution_count": 20,
   "metadata": {},
   "outputs": [
    {
     "name": "stdout",
     "output_type": "stream",
     "text": [
      "(17125,)\n"
     ]
    }
   ],
   "source": [
    "data_gen = DataGenerator(data_dir='../data/VOCdevkit/VOC2012/JPEGImages/', \n",
    "                        label_dir='../data/VOCdevkit/VOC2012/Preprocessed/', \n",
    "                        num_classes=num_classes, num_aspect_ratios=num_aspect_ratios,\n",
    "                        feature_sizes=feature_sizes, \n",
    "                        batch_size=batch_size)"
   ]
  },
  {
   "cell_type": "code",
   "execution_count": 21,
   "metadata": {},
   "outputs": [],
   "source": [
    "# t = data_gen.generate()\n",
    "# print t.next()"
   ]
  },
  {
   "cell_type": "code",
   "execution_count": null,
   "metadata": {
    "scrolled": true
   },
   "outputs": [
    {
     "name": "stdout",
     "output_type": "stream",
     "text": [
      "Epoch 1/50\n",
      " 2/50 [>.............................] - ETA: 2089s - loss: 40874.0596 - 26_loss: 39486.4023 - 12_loss: 556.4903 - 5_loss: 831.1667 - 26_my_accuracy: 0.0356 - 12_my_accuracy: 0.0374 - 5_my_accuracy: 0.0322 "
     ]
    }
   ],
   "source": [
    "ssd_model.fit_generator(generator=data_gen.generate(),steps_per_epoch=50, epochs=50, \n",
    "                       validation_data=data_gen.generate(train=False), validation_steps=32)"
   ]
  },
  {
   "cell_type": "code",
   "execution_count": null,
   "metadata": {
    "collapsed": true
   },
   "outputs": [],
   "source": [
    "Epoch 1/50\n",
    "50/50 [==============================] - 490s - loss: 1604.6983 - 26_loss: 1485.4940 - 12_loss: 56.4526 - 5_loss: 62.7517   \n",
    "Epoch 2/50\n",
    "50/50 [==============================] - 466s - loss: 67.7751 - 26_loss: 2.2011 - 12_loss: 27.7908 - 5_loss: 37.7832   \n",
    "Epoch 3/50\n",
    "50/50 [==============================] - 502s - loss: 66.2491 - 26_loss: 1.1493 - 12_loss: 27.4748 - 5_loss: 37.6250    \n",
    "Epoch 4/50\n",
    "28/50 [===============>..............] - ETA: 226s - loss: 68.4365 - 26_loss: 1.2382 - 12_loss: 31.2384 - 5_loss: 35.9600"
   ]
  },
  {
   "cell_type": "code",
   "execution_count": null,
   "metadata": {
    "collapsed": true
   },
   "outputs": [],
   "source": []
  },
  {
   "cell_type": "code",
   "execution_count": null,
   "metadata": {
    "collapsed": true
   },
   "outputs": [],
   "source": []
  }
 ],
 "metadata": {
  "kernelspec": {
   "display_name": "Python 2",
   "language": "python",
   "name": "python2"
  },
  "language_info": {
   "codemirror_mode": {
    "name": "ipython",
    "version": 2
   },
   "file_extension": ".py",
   "mimetype": "text/x-python",
   "name": "python",
   "nbconvert_exporter": "python",
   "pygments_lexer": "ipython2",
   "version": "2.7.13"
  }
 },
 "nbformat": 4,
 "nbformat_minor": 2
}
