{
 "cells": [
  {
   "cell_type": "code",
   "execution_count": 19,
   "metadata": {},
   "outputs": [
    {
     "name": "stdout",
     "output_type": "stream",
     "text": [
      "The autoreload extension is already loaded. To reload it, use:\n",
      "  %reload_ext autoreload\n"
     ]
    }
   ],
   "source": [
    "import tensorflow as tf\n",
    "import keras\n",
    "from DataGenerator import DataGenerator\n",
    "from losses_and_metrics import accuracy, recall, loss_with_negative_mining, wrapped_partial, compute_one_by_N\n",
    "import sys\n",
    "sys.path.append('../data_preprocessing/')\n",
    "from ground_truth import GTBuilder\n",
    "%load_ext autoreload\n",
    "%autoreload 2"
   ]
  },
  {
   "cell_type": "code",
   "execution_count": 2,
   "metadata": {},
   "outputs": [],
   "source": [
    "num_classes = 21\n",
    "aspect_ratios = [1, 2, 3, 1 / 2.0, 1 / 3.0]\n",
    "num_aspect_ratios = len(aspect_ratios)+1 # +1 for the last box with aspect_ratio 1 but bigger size\n",
    "\n",
    "feature_sizes = [28, 14]\n",
    "batch_size = 1\n",
    "k = 10"
   ]
  },
  {
   "cell_type": "code",
   "execution_count": 3,
   "metadata": {},
   "outputs": [],
   "source": [
    "loss_fun = wrapped_partial(loss_with_negative_mining, k=k, num_aspect_ratios=num_aspect_ratios, num_classes=num_classes)\n",
    "acc_fun = wrapped_partial(accuracy, num_aspect_ratios=num_aspect_ratios, num_classes=num_classes)\n",
    "recall_fun = wrapped_partial(recall, num_aspect_ratios=num_aspect_ratios, num_classes=num_classes)"
   ]
  },
  {
   "cell_type": "code",
   "execution_count": 5,
   "metadata": {},
   "outputs": [
    {
     "name": "stdout",
     "output_type": "stream",
     "text": [
      "y_true Tensor(\"28_target_1:0\", shape=(?, ?, ?, ?), dtype=float32) y_pred Tensor(\"28_1/BiasAdd:0\", shape=(?, 28, 28, 126), dtype=float32)\n",
      "After reshape and slicing: y_true Tensor(\"metrics_1/accuracy/Slice:0\", shape=(?, ?, ?, 6), dtype=float32) y_pred Tensor(\"metrics_1/accuracy/Reshape:0\", shape=(?, ?, ?, 6, 21), dtype=float32)\n",
      "Final: y_true Tensor(\"metrics_1/accuracy/one_hot:0\", shape=(?, 21), dtype=float32) y_pred Tensor(\"metrics_1/accuracy/Reshape_1:0\", shape=(?, 21), dtype=float32)\n",
      "Tensor(\"metrics_1/recall/Squeeze:0\", dtype=int64)\n",
      "y_true Tensor(\"14_target_1:0\", shape=(?, ?, ?, ?), dtype=float32) y_pred Tensor(\"14_1/BiasAdd:0\", shape=(?, 14, 14, 126), dtype=float32)\n",
      "After reshape and slicing: y_true Tensor(\"metrics_1/accuracy_1/Slice:0\", shape=(?, ?, ?, 6), dtype=float32) y_pred Tensor(\"metrics_1/accuracy_1/Reshape:0\", shape=(?, ?, ?, 6, 21), dtype=float32)\n",
      "Final: y_true Tensor(\"metrics_1/accuracy_1/one_hot:0\", shape=(?, 21), dtype=float32) y_pred Tensor(\"metrics_1/accuracy_1/Reshape_1:0\", shape=(?, 21), dtype=float32)\n",
      "Tensor(\"metrics_1/recall_1/Squeeze:0\", dtype=int64)\n"
     ]
    }
   ],
   "source": [
    "model = keras.models.load_model(\"VGG_basic\", custom_objects={'loss_with_negative_mining': loss_fun, \n",
    "                                                            'accuracy':acc_fun,\n",
    "                                                            'recall':recall_fun})"
   ]
  },
  {
   "cell_type": "code",
   "execution_count": 6,
   "metadata": {},
   "outputs": [
    {
     "name": "stdout",
     "output_type": "stream",
     "text": [
      "[<tf.Tensor '28_1/BiasAdd:0' shape=(?, 28, 28, 126) dtype=float32>, <tf.Tensor '14_1/BiasAdd:0' shape=(?, 14, 14, 126) dtype=float32>]\n"
     ]
    }
   ],
   "source": [
    "print model.outputs"
   ]
  },
  {
   "cell_type": "code",
   "execution_count": 7,
   "metadata": {},
   "outputs": [
    {
     "name": "stdout",
     "output_type": "stream",
     "text": [
      "(17125,)\n"
     ]
    }
   ],
   "source": [
    "data_gen = DataGenerator(data_dir='../data/VOCdevkit/VOC2012/JPEGImages/', \n",
    "                        label_dir='../data/VOCdevkit/VOC2012/Preprocessed/', \n",
    "                        num_classes=num_classes, num_aspect_ratios=num_aspect_ratios,\n",
    "                        feature_sizes=feature_sizes, \n",
    "                        batch_size=batch_size)"
   ]
  },
  {
   "cell_type": "code",
   "execution_count": 8,
   "metadata": {},
   "outputs": [],
   "source": [
    "batch = data_gen.generate(train=False).next()"
   ]
  },
  {
   "cell_type": "code",
   "execution_count": 9,
   "metadata": {},
   "outputs": [],
   "source": [
    "# batch"
   ]
  },
  {
   "cell_type": "code",
   "execution_count": 10,
   "metadata": {},
   "outputs": [],
   "source": [
    "preds = model.predict(batch[0])"
   ]
  },
  {
   "cell_type": "code",
   "execution_count": 12,
   "metadata": {},
   "outputs": [
    {
     "name": "stdout",
     "output_type": "stream",
     "text": [
      "(array([0, 0, 0, 0, 0, 0, 0, 0, 0, 0, 0, 0, 0, 0, 0, 0, 0, 0, 0, 0, 0, 0, 0,\n",
      "       0, 0, 0, 0, 0]), array([4, 4, 5, 5, 5, 5, 5, 5, 5, 5, 5, 6, 6, 6, 6, 6, 6, 6, 6, 6, 6, 7, 7,\n",
      "       7, 7, 7, 7, 8]), array([14, 14, 13, 14, 14, 14, 14, 15, 15, 15, 15, 13, 13, 14, 14, 14, 14,\n",
      "       15, 15, 15, 15, 14, 14, 14, 15, 15, 15, 14]), array([1, 2, 5, 0, 1, 2, 5, 0, 1, 2, 5, 1, 5, 0, 1, 2, 5, 0, 1, 2, 5, 0, 1,\n",
      "       2, 0, 1, 2, 1]))\n"
     ]
    }
   ],
   "source": [
    "print batch[1]['28'].nonzero()"
   ]
  },
  {
   "cell_type": "code",
   "execution_count": 13,
   "metadata": {},
   "outputs": [
    {
     "name": "stdout",
     "output_type": "stream",
     "text": [
      "2 (1, 28, 28, 126) (1, 14, 14, 126)\n",
      "(array([0, 0, 0, ..., 0, 0, 0]), array([ 0,  0,  0, ..., 27, 27, 27]), array([ 0,  0,  0, ..., 27, 27, 27]), array([  0,   1,   2, ..., 123, 124, 125]))\n"
     ]
    }
   ],
   "source": [
    "print len(preds), preds[0].shape, preds[1].shape\n",
    "print preds[0].nonzero()"
   ]
  },
  {
   "cell_type": "code",
   "execution_count": 14,
   "metadata": {},
   "outputs": [],
   "source": [
    "pred_dict = {'28':preds[0], '14':preds[1]}"
   ]
  },
  {
   "cell_type": "code",
   "execution_count": null,
   "metadata": {},
   "outputs": [],
   "source": [
    "image_file = '../data/VOCdevkit/VOC2012/JPEGImages/2007_000392.jpg'\n",
    "img = Image.open(image_file)\n",
    "img = img.resize((224, 224))\n",
    "\n",
    "plt.imshow(img)"
   ]
  },
  {
   "cell_type": "code",
   "execution_count": 15,
   "metadata": {},
   "outputs": [],
   "source": [
    "def draw_boxes(im, boxes):\n",
    "#     fig,ax = plt.subplots(1)\n",
    "\n",
    "#     # Display the image\n",
    "#     ax.imshow(im)\n",
    "    \n",
    "    for box in boxes:\n",
    "        fig,ax = plt.subplots(1)\n",
    "\n",
    "        # Display the image\n",
    "        ax.imshow(im)\n",
    "#         print box.__dict__\n",
    "        x_top = max(box.xc - box.width/2.0, 0)\n",
    "        y_top = max(box.yc - box.height/2.0, 0)\n",
    "        # Create a Rectangle patch\n",
    "        rect = patches.Rectangle((x_top, y_top), box.width, box.height,\n",
    "                                 linewidth=1, edgecolor='r', facecolor='none')\n",
    "\n",
    "        # Add the patch to the Axes\n",
    "        ax.add_patch(rect)\n",
    "        plt.show()\n",
    "\n",
    "#     plt.show()"
   ]
  },
  {
   "cell_type": "code",
   "execution_count": 16,
   "metadata": {},
   "outputs": [
    {
     "ename": "NameError",
     "evalue": "name 'GTBuilder' is not defined",
     "output_type": "error",
     "traceback": [
      "\u001b[0;31m---------------------------------------------------------------------------\u001b[0m",
      "\u001b[0;31mNameError\u001b[0m                                 Traceback (most recent call last)",
      "\u001b[0;32m<ipython-input-16-38dbca119ee0>\u001b[0m in \u001b[0;36m<module>\u001b[0;34m()\u001b[0m\n\u001b[1;32m      3\u001b[0m \u001b[0mnum_classes\u001b[0m \u001b[0;34m=\u001b[0m \u001b[0mlen\u001b[0m\u001b[0;34m(\u001b[0m\u001b[0mclasses\u001b[0m\u001b[0;34m)\u001b[0m\u001b[0;34m\u001b[0m\u001b[0m\n\u001b[1;32m      4\u001b[0m \u001b[0mclass_to_index\u001b[0m \u001b[0;34m=\u001b[0m \u001b[0;34m{\u001b[0m\u001b[0mkey\u001b[0m\u001b[0;34m:\u001b[0m \u001b[0mvalue\u001b[0m \u001b[0;32mfor\u001b[0m \u001b[0;34m(\u001b[0m\u001b[0mkey\u001b[0m\u001b[0;34m,\u001b[0m \u001b[0mvalue\u001b[0m\u001b[0;34m)\u001b[0m \u001b[0;32min\u001b[0m \u001b[0mzip\u001b[0m\u001b[0;34m(\u001b[0m\u001b[0mclasses\u001b[0m\u001b[0;34m,\u001b[0m \u001b[0mrange\u001b[0m\u001b[0;34m(\u001b[0m\u001b[0mnum_classes\u001b[0m\u001b[0;34m)\u001b[0m\u001b[0;34m)\u001b[0m\u001b[0;34m}\u001b[0m\u001b[0;34m\u001b[0m\u001b[0m\n\u001b[0;32m----> 5\u001b[0;31m \u001b[0mgt_builder\u001b[0m \u001b[0;34m=\u001b[0m \u001b[0mGTBuilder\u001b[0m\u001b[0;34m(\u001b[0m\u001b[0mfeature_sizes\u001b[0m\u001b[0;34m,\u001b[0m \u001b[0maspect_ratios\u001b[0m\u001b[0;34m,\u001b[0m \u001b[0mnum_scales\u001b[0m\u001b[0;34m,\u001b[0m \u001b[0mclass_to_index\u001b[0m\u001b[0;34m)\u001b[0m\u001b[0;34m\u001b[0m\u001b[0m\n\u001b[0m",
      "\u001b[0;31mNameError\u001b[0m: name 'GTBuilder' is not defined"
     ]
    }
   ],
   "source": [
    "classes = [\"background\", \"person\", \"bird\", \"cat\", \"cow\", \"dog\", \"horse\", \"sheep\", \"aeroplane\", \"bicycle\", \"boat\", \"bus\",\n",
    "               \"car\", \"motorbike\", \"train\", \"bottle\", \"chair\", \"diningtable\", \"pottedplant\", \"sofa\", \"tvmonitor\"]\n",
    "num_classes = len(classes)\n",
    "class_to_index = {key: value for (key, value) in zip(classes, range(num_classes))}\n",
    "gt_builder = GTBuilder(feature_sizes, aspect_ratios, num_scales, class_to_index)"
   ]
  },
  {
   "cell_type": "code",
   "execution_count": null,
   "metadata": {},
   "outputs": [],
   "source": [
    "for key in gt_maps:\n",
    "    gt_map = gt_maps[key]\n",
    "    key = int(key)\n",
    "    \n",
    "    feature_index = feature_sizes.index(key)\n",
    "    x, y, z = np.where(gt_map > 0)\n",
    "    indices = zip(x, y, z)\n",
    "    boxes = []\n",
    "    for index in indices:\n",
    "        boxes.append(gt_builder.index_to_bbox(*(list(index) + [feature_index])))\n",
    "#         break\n",
    "    print key\n",
    "    draw_boxes(img, boxes)"
   ]
  },
  {
   "cell_type": "code",
   "execution_count": null,
   "metadata": {},
   "outputs": [],
   "source": []
  },
  {
   "cell_type": "code",
   "execution_count": null,
   "metadata": {},
   "outputs": [],
   "source": []
  }
 ],
 "metadata": {
  "kernelspec": {
   "display_name": "Python 2",
   "language": "python",
   "name": "python2"
  },
  "language_info": {
   "codemirror_mode": {
    "name": "ipython",
    "version": 2
   },
   "file_extension": ".py",
   "mimetype": "text/x-python",
   "name": "python",
   "nbconvert_exporter": "python",
   "pygments_lexer": "ipython2",
   "version": "2.7.12"
  }
 },
 "nbformat": 4,
 "nbformat_minor": 2
}
